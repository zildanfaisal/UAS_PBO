{
  "nbformat": 4,
  "nbformat_minor": 0,
  "metadata": {
    "colab": {
      "provenance": []
    },
    "kernelspec": {
      "name": "python3",
      "display_name": "Python 3"
    },
    "language_info": {
      "name": "python"
    }
  },
  "cells": [
    {
      "cell_type": "code",
      "source": [
        "class FileReader:\n",
        "    def read(self, file_name):\n",
        "        with open(file_name, \"r\") as f:\n",
        "            return f.read()\n",
        "\n",
        "class CSVReader:\n",
        "    def __init__(self, file_reader):\n",
        "        self.file_reader = file_reader\n",
        "    \n",
        "    def read_csv(self, file_name):\n",
        "        data = self.file_reader.read(file_name)\n",
        "        lines = data.split(\"\\n\")\n",
        "        return [line.split(\",\") for line in lines]\n",
        "\n",
        "class PDFReader:\n",
        "    def __init__(self, file_reader):\n",
        "        self.file_reader = file_reader\n",
        "    \n",
        "    def read_pdf(self, file_name):\n",
        "        # PDF reading logic here\n",
        "        pass\n",
        "\n",
        "# Using dependency injection\n",
        "file_reader = FileReader()\n",
        "csv_reader = CSVReader(file_reader)\n",
        "pdf_reader = PDFReader(file_reader)\n",
        "\n",
        "# Atau dengan menggunakan abstract class atau interface sebagai abstraction:\n",
        "\n",
        "class FileReaderInterface:\n",
        "    def read(self, file_name):\n",
        "        pass\n",
        "\n",
        "class FileReader(FileReaderInterface):\n",
        "    def read(self, file_name):\n",
        "        with open(file_name, \"r\") as f:\n",
        "            return f.read()\n",
        "\n",
        "class CSVReader:\n",
        "    def __init__(self, file_reader: FileReaderInterface):\n",
        "        self.file_reader = file_reader\n",
        "    \n",
        "    def read_csv(self, file_name):\n",
        "        data = self.file_reader.read(file_name)\n",
        "        lines = data.split(\"\\n\")\n",
        "        return [line.split(\",\") for line in lines]\n",
        "\n",
        "class PDFReader:\n",
        "    def __init__(self, file_reader: FileReaderInterface):\n",
        "        self.file_reader = file_reader\n",
        "    \n",
        "    def read_pdf(self, file_name):\n",
        "        # PDF reading logic here\n",
        "        pass\n",
        "\n",
        "# Using abstract class or interface as abstraction\n",
        "file_reader = FileReader()\n",
        "csv_reader = CSVReader(file_reader)\n",
        "pdf_reader = PDFReader(file_reader)\n",
        "\n",
        "# Dengan demikian, kelas CSVReader dan PDFReader \n",
        "# tidak tergantung pada kelas FileReader secara langsung, \n",
        "# tapi hanya tergantung pada interface FileReaderInterface. \n",
        "# Ini sesuai dengan prinsip DIP."
      ],
      "metadata": {
        "id": "0jFA35MXfEoF"
      },
      "execution_count": 2,
      "outputs": []
    }
  ]
}