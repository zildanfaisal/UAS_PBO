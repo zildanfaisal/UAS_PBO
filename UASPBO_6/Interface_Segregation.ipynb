{
  "nbformat": 4,
  "nbformat_minor": 0,
  "metadata": {
    "colab": {
      "provenance": []
    },
    "kernelspec": {
      "name": "python3",
      "display_name": "Python 3"
    },
    "language_info": {
      "name": "python"
    }
  },
  "cells": [
    {
      "cell_type": "code",
      "execution_count": 1,
      "metadata": {
        "colab": {
          "base_uri": "https://localhost:8080/",
          "height": 131
        },
        "id": "SbvKI688fc2h",
        "outputId": "9b79ca62-7f33-42f6-cf2d-4603fe5534d7"
      },
      "outputs": [
        {
          "output_type": "error",
          "ename": "SyntaxError",
          "evalue": "ignored",
          "traceback": [
            "\u001b[0;36m  File \u001b[0;32m\"<ipython-input-1-84e968728971>\"\u001b[0;36m, line \u001b[0;32m27\u001b[0m\n\u001b[0;31m    subclass wahel masih dapat memanggil metode \"walk\" dan itu tidak seharusnya terjadi\u001b[0m\n\u001b[0m             ^\u001b[0m\n\u001b[0;31mSyntaxError\u001b[0m\u001b[0;31m:\u001b[0m invalid syntax\n"
          ]
        }
      ],
      "source": [
        "#contoh salah\n",
        "import numpy as np\n",
        "from abc import ABC, abstractmethod\n",
        "\n",
        "class Mammals (ABC):\n",
        "  @abstractmethod\n",
        "  def swim()-> bool:\n",
        "    print(\"Can Walk\")\n",
        "\n",
        "class Human(Mammals):\n",
        "  def swim():\n",
        "    return print(\"Humans can swim\")\n",
        "  \n",
        "  def walk ():\n",
        "    return print(\"Humns can walk\")\n",
        "\n",
        "class Whale(Mammals):\n",
        "  def swim():\n",
        "    return print(\"Whales can swim\")\n",
        "\n",
        "Human.swim()\n",
        "Human.walk()\n",
        "\n",
        "Whale.swim()\n",
        "Whale.walk()\n",
        "\n",
        "subclass wahel masih dapat memanggil metode \"walk\" dan itu tidak seharusnya terjadi\n",
        "dan untuk menghindarinya yaitu dengan Interface-Segregation agar dapat membuat lebih banyak \n",
        "antarmuka khusus klien daripada antarmuka satu tujuan umum\n",
        "\n",
        "#contoh yang benar \n",
        "from abc import ABC, abstractmethod\n",
        "\n",
        "class Walker (ABC):\n",
        "  @abstractmethod \n",
        "  def walk ()-> bool:\n",
        "    return print(\"can walk\")\n",
        "\n",
        "class Swimmer(ABC):\n",
        "  @abstractmethod\n",
        "  def swim()-> bool:\n",
        "    return print(\"can swim\")\n",
        "\n",
        "class Human(Walker, Swimmer):\n",
        "  def walk():\n",
        "    return print(\"can walk\")\n",
        "  def swim():\n",
        "    return print(\"can swim\")\n",
        "\n",
        "class Whale (Swimmer):\n",
        "  def swim():\n",
        "    return print(\"Whale can swim\")\n",
        "\n",
        "if__name__==\"__main__\":\n",
        "  Human.walk()\n",
        "  Human.swim()\n",
        "\n",
        "  Whale walk()\n",
        "  Whale.swim()"
      ]
    }
  ]
}