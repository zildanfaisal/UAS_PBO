{
  "nbformat": 4,
  "nbformat_minor": 0,
  "metadata": {
    "colab": {
      "provenance": []
    },
    "kernelspec": {
      "name": "python3",
      "display_name": "Python 3"
    },
    "language_info": {
      "name": "python"
    }
  },
  "cells": [
    {
      "cell_type": "code",
      "execution_count": null,
      "metadata": {
        "id": "B64bjnRUfvRT"
      },
      "outputs": [],
      "source": [
        "class Rectangle:\n",
        "    def __init__(self, width, height):\n",
        "        self.width = width\n",
        "        self.height = height\n",
        "    \n",
        "    def area(self):\n",
        "        return self.width * self.height\n",
        "    \n",
        "class Square(Rectangle):\n",
        "    def __init__(self, side):\n",
        "        self.width = side\n",
        "        self.height = side\n",
        "\n",
        "# Dalam contoh di atas, kelas Square merupakan subclass dari kelas Rectangle. \n",
        "# Namun, karena Square hanya memiliki satu sisi, maka saat menghitung luasnya \n",
        "# tidak menggunakan width dan height, tapi hanya menggunakan satu sisi. \n",
        "# Ini akan menyebabkan masalah jika kita menggunakan kelas Square \n",
        "# di tempat kelas Rectangle, karena hasil yang diharapkan tidak sesuai dengan yang sebenarnya.\n",
        "\n",
        "#Untuk memperbaiki ini, kita bisa mengubah implementasi kelas Square seperti berikut:\n",
        "\n",
        "class Square(Rectangle):\n",
        "    def __init__(self, side):\n",
        "        self.width = side\n",
        "        self.height = side\n",
        "    \n",
        "    def set_width(self, width):\n",
        "        self.width = width\n",
        "        self.height = width\n",
        "    \n",
        "    def set_height(self, height):\n",
        "        self.width = height\n",
        "        self.height = height\n",
        "        \n",
        "# Dengan demikian, kelas Square sudah sesuai dengan prinsip LSP karena tidak merubah compotertement class rectangle."
      ]
    }
  ]
}