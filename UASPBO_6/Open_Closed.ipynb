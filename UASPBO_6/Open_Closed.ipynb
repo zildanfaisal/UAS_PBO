{
  "nbformat": 4,
  "nbformat_minor": 0,
  "metadata": {
    "colab": {
      "provenance": []
    },
    "kernelspec": {
      "name": "python3",
      "display_name": "Python 3"
    },
    "language_info": {
      "name": "python"
    }
  },
  "cells": [
    {
      "cell_type": "code",
      "execution_count": null,
      "metadata": {
        "id": "TgqG4yevgCJc"
      },
      "outputs": [],
      "source": [
        "import numpy as np\n",
        "from abc import ABC, abstractmethod\n",
        "\n",
        "class Operations(ABC)\n",
        "  '''Operations'''\n",
        "  @abstractmethod\n",
        "  def operation():\n",
        "    pass\n",
        "\n",
        "class Mean(Operations):\n",
        "  '''Compute Mean'''\n",
        "  def operation(list_):\n",
        "    print(f\"The mean is {np.mean(list_)}\")\n",
        "\n",
        "class Max(Operations):\n",
        "  '''Compute Max'''\n",
        "  def operation(list_):\n",
        "    print(f\"The max is {np.max(list_)}\")\n",
        "\n",
        "class Main:\n",
        "  '''Main'''\n",
        "  @abstractmethod\n",
        "  def get_operations(list_):\n",
        "    #_subclasses_will found all classes inheriting from operations \n",
        "    for operation in Operations._subclasses_():\n",
        "      operation.operation(list_)\n",
        "\n",
        "\n",
        "if__name__==\"__main__\":\n",
        "  Main.get_operation([11,12,13,14,15])\n",
        "  # The mean is 13\n",
        "  # The max is 15"
      ]
    }
  ]
}