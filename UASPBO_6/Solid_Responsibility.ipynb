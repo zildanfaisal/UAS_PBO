{
  "nbformat": 4,
  "nbformat_minor": 0,
  "metadata": {
    "colab": {
      "provenance": []
    },
    "kernelspec": {
      "name": "python3",
      "display_name": "Python 3"
    },
    "language_info": {
      "name": "python"
    }
  },
  "cells": [
    {
      "cell_type": "code",
      "execution_count": null,
      "metadata": {
        "id": "QqkMvbf8gJWZ"
      },
      "outputs": [],
      "source": [
        "# contoh yang salah\n",
        "import numpy as np\n",
        "\n",
        "def math_operations(list_):\n",
        "  # complete average \n",
        "  print(f\"the mean is {np.mean(list_)}\")\n",
        "  \n",
        "  #compute max\n",
        "  print(f\"the max is{np.max(list_)}\")\n",
        "\n",
        "math_operations(list_ = [11,12,13,14,15])\n",
        "\n",
        "# agar sesuai dengan konsep solid-responsibility maka harus membagi fungsi math_operations menjadi fungsi atom\n",
        "# sehingga tanggung jawab fungsi tidak dapat dibagi menjadi lebih banyak sub-bagian\n",
        "# membuat fungsi secara umum yang diberi nama \"utama\".\n",
        "# fungsi ini akan memanggil semua fungsi lainnya satu persatu dalam masing-masing langkah\n",
        "\n",
        "def get_mean(list_):\n",
        "  '''compute mean'''\n",
        "  print(f\"the mean is {np.mean(list_)}\")\n",
        "\n",
        "def get_max(list_):\n",
        "  '''compute max'''\n",
        "  print(f\"the max is {np.max(list_)}\")\n",
        "\n",
        "def main(list_):\n",
        "  # compute mean\n",
        "  get_mean(list_)\n",
        "  # compute max\n",
        "  get_max(list_)\n",
        "\n",
        "main([11,12,13,14,15])\n",
        "\n",
        "# jadi, hanya ada satu alasan untuk mengubah setiap fungsi yang terhubung dengan \"utama\" "
      ]
    }
  ]
}